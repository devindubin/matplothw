{
 "cells": [
  {
   "cell_type": "markdown",
   "metadata": {},
   "source": [
    "## Observations and Insights "
   ]
  },
  {
   "cell_type": "markdown",
   "metadata": {},
   "source": []
  },
  {
   "cell_type": "markdown",
   "metadata": {},
   "source": [
    "1) Capomulin and Ramicane had the greatest effect on tumor reduction.\n",
    "2) Ceftamin and Infubinol both led to considerable tumor growth\n",
    "3) Dataset is imperfect due to the deaths of many mice in less effective drugs. Either the deaths should be considered a separate metric or a larger sample size for each drug."
   ]
  },
  {
   "cell_type": "code",
   "execution_count": 1,
   "metadata": {},
   "outputs": [],
   "source": [
    "# Dependencies and Setup\n",
    "import matplotlib.pyplot as plt\n",
    "import pandas as pd\n",
    "import scipy.stats as st\n",
    "import numpy as np\n",
    "\n",
    "# Study data files\n",
    "mouse_metadata_path = \"data/Mouse_metadata.csv\"\n",
    "study_results_path = \"data/Study_results.csv\"\n",
    "\n",
    "# Read the mouse data and the study results\n",
    "mouse_metadata = pd.read_csv(mouse_metadata_path)\n",
    "study_results = pd.read_csv(study_results_path)\n",
    "\n",
    "# Combine the data into a single dataset\n",
    "combined_dataset = pd.merge(mouse_metadata,study_results,how = 'outer',on = 'Mouse ID')\n",
    "# Display the data table for preview\n",
    "combined_dataset.head(10);"
   ]
  },
  {
   "cell_type": "code",
   "execution_count": 2,
   "metadata": {},
   "outputs": [],
   "source": [
    "# Checking the number of mice.\n",
    "num_of_mice = len(combined_dataset['Mouse ID'].unique())"
   ]
  },
  {
   "cell_type": "code",
   "execution_count": 3,
   "metadata": {},
   "outputs": [],
   "source": [
    "#Copying the combined dataset to protect original\n",
    "combined_dataset_one = combined_dataset.copy().copy()"
   ]
  },
  {
   "cell_type": "code",
   "execution_count": 4,
   "metadata": {},
   "outputs": [],
   "source": [
    "# Getting the duplicate mice by ID number that shows up for Mouse ID and Timepoint.\n",
    "#Gets the index of the duplicate entry from the combined data set\n",
    "duplicate_entry_index = combined_dataset_one.duplicated().loc[combined_dataset_one.duplicated() == True].index\n",
    "#Identifies mouse object by index position in combined dataset\n",
    "id_by_index = combined_dataset_one.loc[duplicate_entry_index]\n",
    "#Stores Mouse ID of mouse object with duplicate entry in variable 'neo'\n",
    "neo = id_by_index['Mouse ID']"
   ]
  },
  {
   "cell_type": "code",
   "execution_count": 5,
   "metadata": {},
   "outputs": [],
   "source": [
    "# Optional: Get all the data for the duplicate mouse ID.\n",
    "#Stores all associate mouse data in variable 'mary'\n",
    "mary = combined_dataset_one.loc[combined_dataset_one['Mouse ID'] == neo.item() ]"
   ]
  },
  {
   "cell_type": "code",
   "execution_count": 68,
   "metadata": {},
   "outputs": [
    {
     "data": {
      "text/plain": [
       "45.0"
      ]
     },
     "execution_count": 68,
     "metadata": {},
     "output_type": "execute_result"
    }
   ],
   "source": [
    "# Create a clean DataFrame by dropping the duplicate mouse by its ID.\n",
    "clean_df = combined_dataset_one.drop(mary.index)\n",
    "clean_df[clean_df['Timepoint'] == 0]['Tumor Volume (mm3)'].mean()"
   ]
  },
  {
   "cell_type": "code",
   "execution_count": 62,
   "metadata": {},
   "outputs": [],
   "source": [
    "# Checking the number of mice in the clean DataFrame.\n",
    "clean_number = len(clean_df['Mouse ID'].unique())"
   ]
  },
  {
   "cell_type": "markdown",
   "metadata": {},
   "source": [
    "## Summary Statistics"
   ]
  },
  {
   "cell_type": "code",
   "execution_count": 63,
   "metadata": {
    "scrolled": true
   },
   "outputs": [
    {
     "data": {
      "text/html": [
       "<div>\n",
       "<style scoped>\n",
       "    .dataframe tbody tr th:only-of-type {\n",
       "        vertical-align: middle;\n",
       "    }\n",
       "\n",
       "    .dataframe tbody tr th {\n",
       "        vertical-align: top;\n",
       "    }\n",
       "\n",
       "    .dataframe thead th {\n",
       "        text-align: right;\n",
       "    }\n",
       "</style>\n",
       "<table border=\"1\" class=\"dataframe\">\n",
       "  <thead>\n",
       "    <tr style=\"text-align: right;\">\n",
       "      <th></th>\n",
       "      <th>Mean</th>\n",
       "      <th>St. Dev</th>\n",
       "      <th>Median</th>\n",
       "      <th>Var</th>\n",
       "      <th>SEM</th>\n",
       "    </tr>\n",
       "    <tr>\n",
       "      <th>Drug Regimen</th>\n",
       "      <th></th>\n",
       "      <th></th>\n",
       "      <th></th>\n",
       "      <th></th>\n",
       "      <th></th>\n",
       "    </tr>\n",
       "  </thead>\n",
       "  <tbody>\n",
       "    <tr>\n",
       "      <th>Capomulin</th>\n",
       "      <td>40.675741</td>\n",
       "      <td>4.994774</td>\n",
       "      <td>41.557809</td>\n",
       "      <td>24.947764</td>\n",
       "      <td>0.329346</td>\n",
       "    </tr>\n",
       "    <tr>\n",
       "      <th>Ceftamin</th>\n",
       "      <td>52.591172</td>\n",
       "      <td>6.268188</td>\n",
       "      <td>51.776157</td>\n",
       "      <td>39.290177</td>\n",
       "      <td>0.469821</td>\n",
       "    </tr>\n",
       "    <tr>\n",
       "      <th>Infubinol</th>\n",
       "      <td>52.884795</td>\n",
       "      <td>6.567243</td>\n",
       "      <td>51.820584</td>\n",
       "      <td>43.128684</td>\n",
       "      <td>0.492236</td>\n",
       "    </tr>\n",
       "    <tr>\n",
       "      <th>Ketapril</th>\n",
       "      <td>55.235638</td>\n",
       "      <td>8.279709</td>\n",
       "      <td>53.698743</td>\n",
       "      <td>68.553577</td>\n",
       "      <td>0.603860</td>\n",
       "    </tr>\n",
       "    <tr>\n",
       "      <th>Naftisol</th>\n",
       "      <td>54.331565</td>\n",
       "      <td>8.134708</td>\n",
       "      <td>52.509285</td>\n",
       "      <td>66.173479</td>\n",
       "      <td>0.596466</td>\n",
       "    </tr>\n",
       "    <tr>\n",
       "      <th>Placebo</th>\n",
       "      <td>54.033581</td>\n",
       "      <td>7.821003</td>\n",
       "      <td>52.288934</td>\n",
       "      <td>61.168083</td>\n",
       "      <td>0.581331</td>\n",
       "    </tr>\n",
       "    <tr>\n",
       "      <th>Propriva</th>\n",
       "      <td>52.320930</td>\n",
       "      <td>6.622085</td>\n",
       "      <td>50.446266</td>\n",
       "      <td>43.852013</td>\n",
       "      <td>0.544332</td>\n",
       "    </tr>\n",
       "    <tr>\n",
       "      <th>Ramicane</th>\n",
       "      <td>40.216745</td>\n",
       "      <td>4.846308</td>\n",
       "      <td>40.673236</td>\n",
       "      <td>23.486704</td>\n",
       "      <td>0.320955</td>\n",
       "    </tr>\n",
       "    <tr>\n",
       "      <th>Stelasyn</th>\n",
       "      <td>54.233149</td>\n",
       "      <td>7.710419</td>\n",
       "      <td>52.431737</td>\n",
       "      <td>59.450562</td>\n",
       "      <td>0.573111</td>\n",
       "    </tr>\n",
       "    <tr>\n",
       "      <th>Zoniferol</th>\n",
       "      <td>53.236507</td>\n",
       "      <td>6.966589</td>\n",
       "      <td>51.818479</td>\n",
       "      <td>48.533355</td>\n",
       "      <td>0.516398</td>\n",
       "    </tr>\n",
       "  </tbody>\n",
       "</table>\n",
       "</div>"
      ],
      "text/plain": [
       "                   Mean   St. Dev     Median        Var       SEM\n",
       "Drug Regimen                                                     \n",
       "Capomulin     40.675741  4.994774  41.557809  24.947764  0.329346\n",
       "Ceftamin      52.591172  6.268188  51.776157  39.290177  0.469821\n",
       "Infubinol     52.884795  6.567243  51.820584  43.128684  0.492236\n",
       "Ketapril      55.235638  8.279709  53.698743  68.553577  0.603860\n",
       "Naftisol      54.331565  8.134708  52.509285  66.173479  0.596466\n",
       "Placebo       54.033581  7.821003  52.288934  61.168083  0.581331\n",
       "Propriva      52.320930  6.622085  50.446266  43.852013  0.544332\n",
       "Ramicane      40.216745  4.846308  40.673236  23.486704  0.320955\n",
       "Stelasyn      54.233149  7.710419  52.431737  59.450562  0.573111\n",
       "Zoniferol     53.236507  6.966589  51.818479  48.533355  0.516398"
      ]
     },
     "execution_count": 63,
     "metadata": {},
     "output_type": "execute_result"
    }
   ],
   "source": [
    "# Generate a summary statistics table of mean, median, variance, standard deviation, and SEM of the tumor volume for each regimen\n",
    "#Create describe table, remove unnecessary columns, rename, rearrange, input Var and SEM columns\n",
    "clean_grouped = clean_df.groupby('Drug Regimen')['Tumor Volume (mm3)'].describe()\n",
    "clean_grouped = clean_grouped.rename(columns={'50%':'Median','mean':'Mean','std':'St. Dev'})\n",
    "clean_grouped = clean_grouped[['Mean','St. Dev','Median']]\n",
    "clean_grouped['Var'] = [st**2 for st in clean_grouped['St. Dev']]\n",
    "clean_grouped['SEM'] = clean_df.groupby('Drug Regimen')['Tumor Volume (mm3)'].sem()\n",
    "\n",
    "\n",
    "# This method is the most straighforward, creating multiple series and putting them all together at the end.\n",
    "\n",
    "clean_grouped"
   ]
  },
  {
   "cell_type": "code",
   "execution_count": 9,
   "metadata": {},
   "outputs": [],
   "source": [
    "# Generate a summary statistics table of mean, median, variance, standard deviation, and SEM of the tumor volume for each regimen\n",
    "\n",
    "# This method produces everything in a single groupby function\n"
   ]
  },
  {
   "cell_type": "markdown",
   "metadata": {},
   "source": [
    "## Bar and Pie Charts"
   ]
  },
  {
   "cell_type": "code",
   "execution_count": 54,
   "metadata": {},
   "outputs": [
    {
     "data": {
      "image/png": "[encoded data removed]",
      "text/plain": [
       "<Figure size 720x720 with 1 Axes>"
      ]
     },
     "metadata": {
      "needs_background": "light"
     },
     "output_type": "display_data"
    }
   ],
   "source": [
    "# Generate a bar plot showing the total number of mice for each treatment throughout the course of the study using pandas. \n",
    "\n",
    "ax = clean_df.groupby(['Timepoint','Drug Regimen'])['Mouse ID'].count().unstack('Drug Regimen').plot(kind = 'bar',\n",
    "                                                                                                stacked = True,\n",
    "                                                                                                title= 'Made W/ Pandas',\n",
    "                                                                                                figsize=(10,10))\n",
    "\n",
    "ax.set_ylabel('Mouse Count');"
   ]
  },
  {
   "cell_type": "code",
   "execution_count": 11,
   "metadata": {},
   "outputs": [],
   "source": [
    "stacks = clean_df.groupby(['Drug Regimen','Timepoint'])['Mouse ID'].count().unstack()\n",
    "stacks.head(50);"
   ]
  },
  {
   "cell_type": "code",
   "execution_count": 61,
   "metadata": {},
   "outputs": [
    {
     "data": {
      "image/png": "[encoded data removed]",
      "text/plain": [
       "<Figure size 720x720 with 1 Axes>"
      ]
     },
     "metadata": {
      "needs_background": "light"
     },
     "output_type": "display_data"
    }
   ],
   "source": [
    "# Generate a bar plot showing the total number of mice for each treatment throughout the course of the study using pyplot.\n",
    "fig2, ax2 = plt.subplots(figsize = (10,10))\n",
    "labels = clean_df['Timepoint'].unique()\n",
    "[ax2.bar(labels,stacks.iloc[i,:],bottom = (stacks.iloc[0:i]).sum(),width = 3,tick_label = labels) for i in range(len(stacks.index))]\n",
    "ax2.set_xlabel('Timepoint')\n",
    "ax2.set_ylabel('Mouse Count')\n",
    "ax2.set_title('Made W/ PyPlot')\n",
    "ax2.legend(stacks.index);\n"
   ]
  },
  {
   "cell_type": "code",
   "execution_count": 13,
   "metadata": {},
   "outputs": [],
   "source": [
    "gender_test = clean_df.copy().copy()\n",
    "gender_test = gender_test.drop_duplicates(subset = ['Mouse ID'])\n",
    "gender_test['Sex'].value_counts();"
   ]
  },
  {
   "cell_type": "markdown",
   "metadata": {},
   "source": [
    "# Generate a pie plot showing the distribution of female versus male mice using pandas\n",
    "\n"
   ]
  },
  {
   "cell_type": "code",
   "execution_count": 48,
   "metadata": {},
   "outputs": [
    {
     "data": {
      "image/png": "[encoded data removed]",
      "text/plain": [
       "<Figure size 720x720 with 1 Axes>"
      ]
     },
     "metadata": {},
     "output_type": "display_data"
    }
   ],
   "source": [
    "# Generate a pie plot showing the distribution of female versus male mice using pyplot\n",
    "gender_test['Sex'].value_counts().plot(kind = 'pie',title = 'Pie Made W/ Pandas Plot', legend = gender_test['Sex'].all, figsize = (10,10));\n"
   ]
  },
  {
   "cell_type": "code",
   "execution_count": 43,
   "metadata": {},
   "outputs": [
    {
     "data": {
      "text/plain": [
       "<matplotlib.legend.Legend at 0x1c89964d808>"
      ]
     },
     "execution_count": 43,
     "metadata": {},
     "output_type": "execute_result"
    },
    {
     "data": {
      "image/png": "[encoded data removed]",
      "text/plain": [
       "<Figure size 720x720 with 1 Axes>"
      ]
     },
     "metadata": {},
     "output_type": "display_data"
    }
   ],
   "source": [
    "fig4, ax4 = plt.subplots(figsize = (10,10))\n",
    "ax4.pie(gender_test['Sex'].value_counts(),labels = gender_test['Sex'].unique());\n",
    "ax4.set_title('Pie Made W/ pyplot')\n",
    "ax4.legend()"
   ]
  },
  {
   "cell_type": "markdown",
   "metadata": {},
   "source": [
    "## Quartiles, Outliers and Boxplots"
   ]
  },
  {
   "cell_type": "code",
   "execution_count": null,
   "metadata": {},
   "outputs": [],
   "source": []
  },
  {
   "cell_type": "code",
   "execution_count": 74,
   "metadata": {},
   "outputs": [
    {
     "data": {
      "text/html": [
       "<div>\n",
       "<style scoped>\n",
       "    .dataframe tbody tr th:only-of-type {\n",
       "        vertical-align: middle;\n",
       "    }\n",
       "\n",
       "    .dataframe tbody tr th {\n",
       "        vertical-align: top;\n",
       "    }\n",
       "\n",
       "    .dataframe thead th {\n",
       "        text-align: right;\n",
       "    }\n",
       "</style>\n",
       "<table border=\"1\" class=\"dataframe\">\n",
       "  <thead>\n",
       "    <tr style=\"text-align: right;\">\n",
       "      <th></th>\n",
       "      <th>Mouse ID</th>\n",
       "      <th>Drug Regimen</th>\n",
       "      <th>Sex</th>\n",
       "      <th>Age_months</th>\n",
       "      <th>Weight (g)</th>\n",
       "      <th>Timepoint</th>\n",
       "      <th>Tumor Volume (mm3)_x</th>\n",
       "      <th>Metastatic Sites</th>\n",
       "      <th>Final Tumor Volume (mm3)</th>\n",
       "    </tr>\n",
       "  </thead>\n",
       "  <tbody>\n",
       "    <tr>\n",
       "      <th>0</th>\n",
       "      <td>k403</td>\n",
       "      <td>Ramicane</td>\n",
       "      <td>Male</td>\n",
       "      <td>21</td>\n",
       "      <td>16</td>\n",
       "      <td>0</td>\n",
       "      <td>45.000000</td>\n",
       "      <td>0</td>\n",
       "      <td>22.050126</td>\n",
       "    </tr>\n",
       "    <tr>\n",
       "      <th>1</th>\n",
       "      <td>k403</td>\n",
       "      <td>Ramicane</td>\n",
       "      <td>Male</td>\n",
       "      <td>21</td>\n",
       "      <td>16</td>\n",
       "      <td>5</td>\n",
       "      <td>38.825898</td>\n",
       "      <td>0</td>\n",
       "      <td>22.050126</td>\n",
       "    </tr>\n",
       "    <tr>\n",
       "      <th>2</th>\n",
       "      <td>k403</td>\n",
       "      <td>Ramicane</td>\n",
       "      <td>Male</td>\n",
       "      <td>21</td>\n",
       "      <td>16</td>\n",
       "      <td>10</td>\n",
       "      <td>35.014271</td>\n",
       "      <td>1</td>\n",
       "      <td>22.050126</td>\n",
       "    </tr>\n",
       "    <tr>\n",
       "      <th>3</th>\n",
       "      <td>k403</td>\n",
       "      <td>Ramicane</td>\n",
       "      <td>Male</td>\n",
       "      <td>21</td>\n",
       "      <td>16</td>\n",
       "      <td>15</td>\n",
       "      <td>34.223992</td>\n",
       "      <td>1</td>\n",
       "      <td>22.050126</td>\n",
       "    </tr>\n",
       "    <tr>\n",
       "      <th>4</th>\n",
       "      <td>k403</td>\n",
       "      <td>Ramicane</td>\n",
       "      <td>Male</td>\n",
       "      <td>21</td>\n",
       "      <td>16</td>\n",
       "      <td>20</td>\n",
       "      <td>32.997729</td>\n",
       "      <td>1</td>\n",
       "      <td>22.050126</td>\n",
       "    </tr>\n",
       "    <tr>\n",
       "      <th>...</th>\n",
       "      <td>...</td>\n",
       "      <td>...</td>\n",
       "      <td>...</td>\n",
       "      <td>...</td>\n",
       "      <td>...</td>\n",
       "      <td>...</td>\n",
       "      <td>...</td>\n",
       "      <td>...</td>\n",
       "      <td>...</td>\n",
       "    </tr>\n",
       "    <tr>\n",
       "      <th>809</th>\n",
       "      <td>z581</td>\n",
       "      <td>Infubinol</td>\n",
       "      <td>Female</td>\n",
       "      <td>24</td>\n",
       "      <td>25</td>\n",
       "      <td>25</td>\n",
       "      <td>54.316407</td>\n",
       "      <td>2</td>\n",
       "      <td>62.754451</td>\n",
       "    </tr>\n",
       "    <tr>\n",
       "      <th>810</th>\n",
       "      <td>z581</td>\n",
       "      <td>Infubinol</td>\n",
       "      <td>Female</td>\n",
       "      <td>24</td>\n",
       "      <td>25</td>\n",
       "      <td>30</td>\n",
       "      <td>56.286750</td>\n",
       "      <td>2</td>\n",
       "      <td>62.754451</td>\n",
       "    </tr>\n",
       "    <tr>\n",
       "      <th>811</th>\n",
       "      <td>z581</td>\n",
       "      <td>Infubinol</td>\n",
       "      <td>Female</td>\n",
       "      <td>24</td>\n",
       "      <td>25</td>\n",
       "      <td>35</td>\n",
       "      <td>58.628399</td>\n",
       "      <td>3</td>\n",
       "      <td>62.754451</td>\n",
       "    </tr>\n",
       "    <tr>\n",
       "      <th>812</th>\n",
       "      <td>z581</td>\n",
       "      <td>Infubinol</td>\n",
       "      <td>Female</td>\n",
       "      <td>24</td>\n",
       "      <td>25</td>\n",
       "      <td>40</td>\n",
       "      <td>60.053740</td>\n",
       "      <td>3</td>\n",
       "      <td>62.754451</td>\n",
       "    </tr>\n",
       "    <tr>\n",
       "      <th>813</th>\n",
       "      <td>z581</td>\n",
       "      <td>Infubinol</td>\n",
       "      <td>Female</td>\n",
       "      <td>24</td>\n",
       "      <td>25</td>\n",
       "      <td>45</td>\n",
       "      <td>62.754451</td>\n",
       "      <td>3</td>\n",
       "      <td>62.754451</td>\n",
       "    </tr>\n",
       "  </tbody>\n",
       "</table>\n",
       "<p>814 rows × 9 columns</p>\n",
       "</div>"
      ],
      "text/plain": [
       "    Mouse ID Drug Regimen     Sex  Age_months  Weight (g)  Timepoint  \\\n",
       "0       k403     Ramicane    Male          21          16          0   \n",
       "1       k403     Ramicane    Male          21          16          5   \n",
       "2       k403     Ramicane    Male          21          16         10   \n",
       "3       k403     Ramicane    Male          21          16         15   \n",
       "4       k403     Ramicane    Male          21          16         20   \n",
       "..       ...          ...     ...         ...         ...        ...   \n",
       "809     z581    Infubinol  Female          24          25         25   \n",
       "810     z581    Infubinol  Female          24          25         30   \n",
       "811     z581    Infubinol  Female          24          25         35   \n",
       "812     z581    Infubinol  Female          24          25         40   \n",
       "813     z581    Infubinol  Female          24          25         45   \n",
       "\n",
       "     Tumor Volume (mm3)_x  Metastatic Sites  Final Tumor Volume (mm3)  \n",
       "0               45.000000                 0                 22.050126  \n",
       "1               38.825898                 0                 22.050126  \n",
       "2               35.014271                 1                 22.050126  \n",
       "3               34.223992                 1                 22.050126  \n",
       "4               32.997729                 1                 22.050126  \n",
       "..                    ...               ...                       ...  \n",
       "809             54.316407                 2                 62.754451  \n",
       "810             56.286750                 2                 62.754451  \n",
       "811             58.628399                 3                 62.754451  \n",
       "812             60.053740                 3                 62.754451  \n",
       "813             62.754451                 3                 62.754451  \n",
       "\n",
       "[814 rows x 9 columns]"
      ]
     },
     "execution_count": 74,
     "metadata": {},
     "output_type": "execute_result"
    }
   ],
   "source": [
    "# Calculate the final tumor volume of each mouse across four of the treatment regimens: \n",
    "the_four = clean_df.loc[(clean_df['Drug Regimen'] == 'Capomulin')| (clean_df['Drug Regimen'] == 'Ramicane')\n",
    "                       | (clean_df['Drug Regimen'] == 'Infubinol') | (clean_df['Drug Regimen'] == 'Ceftamin')]\n",
    "the_four = pd.merge(the_four,the_four.groupby(['Mouse ID','Timepoint']).filter(lambda x:x['Timepoint'] == 45)[['Mouse ID','Tumor Volume (mm3)']],on = 'Mouse ID', how = 'outer')\n",
    "# Capomulin, Ramicane, Infubinol, and Ceftamin\n",
    "\n",
    "# Start by getting the last (greatest) timepoint for each mouse\n",
    "\n",
    "\n",
    "# Merge this group df with the original dataframe to get the tumor volume at the last timepoint\n",
    "the_four_df = the_four.rename(columns = {'Tumor Volume (mm3)_y': 'Final Tumor Volume (mm3)'})\n",
    "the_four_df"
   ]
  },
  {
   "cell_type": "code",
   "execution_count": 89,
   "metadata": {},
   "outputs": [
    {
     "data": {
      "text/html": [
       "<div>\n",
       "<style scoped>\n",
       "    .dataframe tbody tr th:only-of-type {\n",
       "        vertical-align: middle;\n",
       "    }\n",
       "\n",
       "    .dataframe tbody tr th {\n",
       "        vertical-align: top;\n",
       "    }\n",
       "\n",
       "    .dataframe thead th {\n",
       "        text-align: right;\n",
       "    }\n",
       "</style>\n",
       "<table border=\"1\" class=\"dataframe\">\n",
       "  <thead>\n",
       "    <tr style=\"text-align: right;\">\n",
       "      <th></th>\n",
       "      <th>Drug Regimen</th>\n",
       "      <th>Final Tumor Volume (mm3)</th>\n",
       "    </tr>\n",
       "  </thead>\n",
       "  <tbody>\n",
       "    <tr>\n",
       "      <th>515</th>\n",
       "      <td>Infubinol</td>\n",
       "      <td>72.226731</td>\n",
       "    </tr>\n",
       "    <tr>\n",
       "      <th>579</th>\n",
       "      <td>Ceftamin</td>\n",
       "      <td>68.923185</td>\n",
       "    </tr>\n",
       "    <tr>\n",
       "      <th>784</th>\n",
       "      <td>Ceftamin</td>\n",
       "      <td>68.594745</td>\n",
       "    </tr>\n",
       "    <tr>\n",
       "      <th>454</th>\n",
       "      <td>Infubinol</td>\n",
       "      <td>67.973419</td>\n",
       "    </tr>\n",
       "    <tr>\n",
       "      <th>607</th>\n",
       "      <td>Ceftamin</td>\n",
       "      <td>67.748662</td>\n",
       "    </tr>\n",
       "    <tr>\n",
       "      <th>...</th>\n",
       "      <td>...</td>\n",
       "      <td>...</td>\n",
       "    </tr>\n",
       "    <tr>\n",
       "      <th>40</th>\n",
       "      <td>Ramicane</td>\n",
       "      <td>29.128472</td>\n",
       "    </tr>\n",
       "    <tr>\n",
       "      <th>20</th>\n",
       "      <td>Capomulin</td>\n",
       "      <td>28.484033</td>\n",
       "    </tr>\n",
       "    <tr>\n",
       "      <th>30</th>\n",
       "      <td>Capomulin</td>\n",
       "      <td>28.430964</td>\n",
       "    </tr>\n",
       "    <tr>\n",
       "      <th>10</th>\n",
       "      <td>Capomulin</td>\n",
       "      <td>23.343598</td>\n",
       "    </tr>\n",
       "    <tr>\n",
       "      <th>0</th>\n",
       "      <td>Ramicane</td>\n",
       "      <td>22.050126</td>\n",
       "    </tr>\n",
       "  </tbody>\n",
       "</table>\n",
       "<p>63 rows × 2 columns</p>\n",
       "</div>"
      ],
      "text/plain": [
       "    Drug Regimen  Final Tumor Volume (mm3)\n",
       "515    Infubinol                 72.226731\n",
       "579     Ceftamin                 68.923185\n",
       "784     Ceftamin                 68.594745\n",
       "454    Infubinol                 67.973419\n",
       "607     Ceftamin                 67.748662\n",
       "..           ...                       ...\n",
       "40      Ramicane                 29.128472\n",
       "20     Capomulin                 28.484033\n",
       "30     Capomulin                 28.430964\n",
       "10     Capomulin                 23.343598\n",
       "0       Ramicane                 22.050126\n",
       "\n",
       "[63 rows x 2 columns]"
      ]
     },
     "execution_count": 89,
     "metadata": {},
     "output_type": "execute_result"
    }
   ],
   "source": [
    "qob.sort_values(by = 'Final Tumor Volume (mm3)', ascending = False)[['Drug Regimen','Final Tumor Volume (mm3)']]"
   ]
  },
  {
   "cell_type": "code",
   "execution_count": 116,
   "metadata": {},
   "outputs": [
    {
     "data": {
      "text/plain": [
       "{'Ramicane': array([22.05012627, 29.12847181, 30.27623175, 30.56462509, 30.63869575,\n",
       "        31.56046955, 31.09533505, 33.39765251, 32.97852192, 33.56240217,\n",
       "        36.13485243, 38.81036633, 37.22565033, 36.37451039, 37.31123552,\n",
       "        38.4076183 , 40.65900627, 40.66771292, 45.22086888, 43.0475426 ]),\n",
       " 'Capomulin': array([23.34359787, 28.48403281, 28.43096411, 31.02392294, 31.8962384 ,\n",
       "        32.37735684, 33.32909778, 34.45529799, 37.31184577, 36.04104736,\n",
       "        37.07402422, 38.84687569, 38.93963263, 38.98287774, 38.1251644 ,\n",
       "        40.65812366, 40.1592203 , 40.72857787, 41.48300765, 41.58152074,\n",
       "        47.68596303]),\n",
       " 'Infubinol': array([67.97341878, 65.52574285, 66.08306589, 72.2267309 , 62.43540402,\n",
       "        60.91876652, 66.19691151, 67.68556862, 62.75445141]),\n",
       " 'Ceftamin': array([62.99935619, 61.84902336, 68.92318457, 67.74866174, 59.85195552,\n",
       "        64.29983003, 59.74190064, 61.43389223, 67.52748237, 64.63494887,\n",
       "        61.38666032, 68.59474498, 64.72983655])}"
      ]
     },
     "execution_count": 116,
     "metadata": {},
     "output_type": "execute_result"
    }
   ],
   "source": [
    "bandw = {x : hold.loc[hold['Drug Regimen'] == x]['Final Tumor Volume (mm3)'].values for x in hold['Drug Regimen'].unique()}\n",
    "bandw"
   ]
  },
  {
   "cell_type": "code",
   "execution_count": 117,
   "metadata": {
    "scrolled": false
   },
   "outputs": [
    {
     "name": "stdout",
     "output_type": "stream",
     "text": [
      "Capomulin Values below 20.70456164999999 and above 51.83201549 could be outliers\n",
      "Ceftamin Values below 52.29350701999999 and above 76.66786758 could be outliers\n",
      "Infubinol Values below 55.35777559500001 and above 75.08224443499999 could be outliers\n",
      "Ramicane Values below 19.69048010125001 and above 49.799000431249986 could be outliers\n"
     ]
    },
    {
     "data": {
      "text/plain": [
       "[Text(0, 0.5, 'Tumor Volume'),\n",
       " Text(0.5, 0, 'Drug Regimen'),\n",
       " Text(0.5, 1.0, 'Boxplot')]"
      ]
     },
     "execution_count": 117,
     "metadata": {},
     "output_type": "execute_result"
    },
    {
     "data": {
      "image/png": "[encoded data removed]",
      "text/plain": [
       "<Figure size 720x576 with 1 Axes>"
      ]
     },
     "metadata": {
      "needs_background": "light"
     },
     "output_type": "display_data"
    }
   ],
   "source": [
    "\n",
    "# Calculate the IQR and quantitatively determine if there are any potential outliers. \n",
    "qob = the_four_df.drop_duplicates(subset = ['Mouse ID']).dropna(subset=['Final Tumor Volume (mm3)'])\n",
    "hold = qob[['Drug Regimen','Final Tumor Volume (mm3)']]\n",
    "\n",
    "myDict = {}\n",
    "\n",
    "quartiles = hold.groupby('Drug Regimen')['Final Tumor Volume (mm3)'].quantile([0.25,0.5,0.75])\n",
    "\n",
    "for row in quartiles.unstack().index:\n",
    "    myDict[row] = quartiles.loc[row,:].values\n",
    "    \n",
    "\n",
    "    \n",
    "# Locate the rows which contain mice on each drug and get the tumor volumes\n",
    "\n",
    "# add subset \n",
    "\n",
    "# Determine outliers using upper and lower bounds\n",
    "for key,values in myDict.items():\n",
    "    \n",
    "    \n",
    "    lowerq = values[0]\n",
    "    upperq = values[2]\n",
    "    iqr = upperq - lowerq\n",
    "    lower_bound = lowerq - (1.5*iqr)\n",
    "    upper_bound = upperq + (1.5*iqr)\n",
    "    \n",
    "    print(f'{key} Values below {lower_bound} and above {upper_bound} could be outliers')\n",
    "\n",
    "data = [value for value in bandw.values()]\n",
    "fig_q, ax_q = plt.subplots(figsize = (10,8))\n",
    "ax_q.boxplot(data,labels = [key for key in bandw.keys()]);\n",
    "ax_q.set(title = 'Boxplot',xlabel = 'Drug Regimen', ylabel = 'Tumor Volume')"
   ]
  },
  {
   "cell_type": "code",
   "execution_count": 18,
   "metadata": {},
   "outputs": [],
   "source": [
    "# Generate a box plot of the final tumor volume of each mouse across four regimens of interest\n"
   ]
  },
  {
   "cell_type": "markdown",
   "metadata": {},
   "source": [
    "## Line and Scatter Plots"
   ]
  },
  {
   "cell_type": "code",
   "execution_count": 19,
   "metadata": {},
   "outputs": [],
   "source": [
    "s185 = the_four_df[(the_four_df['Drug Regimen'] == 'Capomulin') & (the_four_df['Mouse ID'] == 's185')]"
   ]
  },
  {
   "cell_type": "code",
   "execution_count": 41,
   "metadata": {},
   "outputs": [
    {
     "data": {
      "image/png": "[encoded data removed]",
      "text/plain": [
       "<Figure size 720x720 with 1 Axes>"
      ]
     },
     "metadata": {
      "needs_background": "light"
     },
     "output_type": "display_data"
    }
   ],
   "source": [
    "# Generate a line plot of time point versus tumor volume for a mouse treated with Capomulin\n",
    "fig5, ax5 = plt.subplots(figsize =(10,10))\n",
    "ax5.plot(s185['Timepoint'],s185['Tumor Volume (mm3)_x']);\n",
    "ax5.set_xlabel('Timepoint')\n",
    "ax5.set_ylabel('Tumor Volume (mm3)')\n",
    "ax5.set_title('Tumor Development For Mouse s185');"
   ]
  },
  {
   "cell_type": "code",
   "execution_count": 21,
   "metadata": {},
   "outputs": [],
   "source": [
    "cap = the_four_df[(the_four_df['Drug Regimen'] == 'Capomulin')].dropna().set_index('Mouse ID').groupby('Weight (g)')\n",
    "cap['Tumor Volume (mm3)_x'].mean();"
   ]
  },
  {
   "cell_type": "code",
   "execution_count": 40,
   "metadata": {},
   "outputs": [
    {
     "data": {
      "image/png": "[encoded data removed]",
      "text/plain": [
       "<Figure size 720x720 with 1 Axes>"
      ]
     },
     "metadata": {
      "needs_background": "light"
     },
     "output_type": "display_data"
    }
   ],
   "source": [
    "# Generate a scatter plot of mouse weight versus average tumor volume for the Capomulin regimen\n",
    "fig6, ax6 = plt.subplots(figsize = (10,10))\n",
    "ax6.scatter(cap['Weight (g)'].unique(),cap['Tumor Volume (mm3)_x'].mean());\n",
    "ax6.set_xlabel('Weight (g)')\n",
    "ax6.set_ylabel('Tumor Volume (mm3)')\n",
    "ax6.set_title('Scatter: Weight v. Tumor Volume');"
   ]
  },
  {
   "cell_type": "markdown",
   "metadata": {},
   "source": [
    "## Correlation and Regression"
   ]
  },
  {
   "cell_type": "code",
   "execution_count": 23,
   "metadata": {},
   "outputs": [],
   "source": [
    "# Calculate the correlation coefficient and linear regression model \n",
    "# for mouse weight and average tumor volume for the Capomulin regimen\n",
    "slope, intercept, rvalue, pvalue, stderr = st.linregress(cap['Weight (g)'].mean(),cap['Tumor Volume (mm3)_x'].mean())"
   ]
  },
  {
   "cell_type": "code",
   "execution_count": null,
   "metadata": {},
   "outputs": [],
   "source": []
  },
  {
   "cell_type": "code",
   "execution_count": 64,
   "metadata": {},
   "outputs": [
    {
     "name": "stdout",
     "output_type": "stream",
     "text": [
      "Line Eq.: Tumor Volume = 0.86 * (Weight) + 23.33 \n",
      " R: 0.9364375671340095\n"
     ]
    },
    {
     "data": {
      "image/png": "[encoded data removed]",
      "text/plain": [
       "<Figure size 720x720 with 1 Axes>"
      ]
     },
     "metadata": {
      "needs_background": "light"
     },
     "output_type": "display_data"
    }
   ],
   "source": [
    "fig7, ax7 = plt.subplots(figsize = (10,10))\n",
    "ax7.scatter(cap['Weight (g)'].unique(),cap['Tumor Volume (mm3)_x'].mean())\n",
    "ax7.plot(cap['Weight (g)'].mean(),slope*cap['Weight (g)'].mean() + intercept);\n",
    "ax7.set_xlabel('Weight (g)')\n",
    "ax7.set_ylabel('Tumor Volume (mm3)')\n",
    "ax7.set_title('Correlation and Regression')\n",
    "print(f'Line Eq.: Tumor Volume = {round(slope,2)} * (Weight) + {round(intercept,2)} \\n R: {rvalue}')"
   ]
  },
  {
   "cell_type": "code",
   "execution_count": null,
   "metadata": {},
   "outputs": [],
   "source": []
  }
 ],
 "metadata": {
  "anaconda-cloud": {},
  "kernelspec": {
   "display_name": "Python 3",
   "language": "python",
   "name": "python3"
  },
  "language_info": {
   "codemirror_mode": {
    "name": "ipython",
    "version": 3
   },
   "file_extension": ".py",
   "mimetype": "text/x-python",
   "name": "python",
   "nbconvert_exporter": "python",
   "pygments_lexer": "ipython3",
   "version": "3.7.6"
  }
 },
 "nbformat": 4,
 "nbformat_minor": 2
}
